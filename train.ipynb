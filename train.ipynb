{
 "cells": [
  {
   "cell_type": "code",
   "execution_count": null,
   "metadata": {
    "colab": {
     "base_uri": "https://localhost:8080/",
     "height": 72
    },
    "colab_type": "code",
    "executionInfo": {
     "elapsed": 1750,
     "status": "ok",
     "timestamp": 1591862727730,
     "user": {
      "displayName": "Rémy Hidra",
      "photoUrl": "",
      "userId": "06476743647043651345"
     },
     "user_tz": -120
    },
    "id": "EiUWxrZvTVKa",
    "outputId": "724102ec-466f-48f8-dd61-ef51df694080"
   },
   "outputs": [],
   "source": [
    "import keras, os, datetime, numpy as np, matplotlib.pyplot as plt, data, model, cv2, pickle\n",
    "from keras.callbacks import ModelCheckpoint, CSVLogger, EarlyStopping, TensorBoard\n",
    "from keras.optimizers import Adam, SGD"
   ]
  },
  {
   "cell_type": "code",
   "execution_count": null,
   "metadata": {
    "colab": {},
    "colab_type": "code",
    "id": "_QQgjWe_WEk-"
   },
   "outputs": [],
   "source": [
    "batch_size = 32\n",
    "training_size = 2913\n",
    "testing_size = 210\n",
    "\n",
    "train_gen = data.data_gen('dataset/images_train', 'dataset/annotations_train', batch_size=batch_size, one_hot=True)\n",
    "test_gen = data.data_gen('dataset/images_test', 'dataset/annotations_test', batch_size=batch_size, one_hot=True)"
   ]
  },
  {
   "cell_type": "code",
   "execution_count": null,
   "metadata": {
    "colab": {
     "base_uri": "https://localhost:8080/",
     "height": 86
    },
    "colab_type": "code",
    "executionInfo": {
     "elapsed": 16077,
     "status": "ok",
     "timestamp": 1591862747143,
     "user": {
      "displayName": "Rémy Hidra",
      "photoUrl": "",
      "userId": "06476743647043651345"
     },
     "user_tz": -120
    },
    "id": "jH73cu26Wpdk",
    "outputId": "0ee1a486-60ca-4d89-875f-c78be77e406e"
   },
   "outputs": [],
   "source": [
    "m = model.get_model()"
   ]
  },
  {
   "cell_type": "code",
   "execution_count": null,
   "metadata": {
    "colab": {},
    "colab_type": "code",
    "id": "oFGCO4mApsBb"
   },
   "outputs": [],
   "source": [
    "#m = model.get_model_without_concat()"
   ]
  },
  {
   "cell_type": "code",
   "execution_count": null,
   "metadata": {},
   "outputs": [],
   "source": [
    "\"\"\" Weights computation for a proportional class weight distribution\n",
    "y = np.zeros(1)\n",
    "for i in range(20):\n",
    "  _, x = next(test_gen)\n",
    "  y = np.concatenate((y, np.argmax(x, axis=3).reshape(-1)))\n",
    "_, weights = np.unique(y, return_counts=True)\n",
    "weights = y.size / weights\n",
    "\"\"\""
   ]
  },
  {
   "cell_type": "code",
   "execution_count": null,
   "metadata": {
    "colab": {
     "base_uri": "https://localhost:8080/",
     "height": 1000
    },
    "colab_type": "code",
    "executionInfo": {
     "elapsed": 7892231,
     "status": "ok",
     "timestamp": 1591812404004,
     "user": {
      "displayName": "Rémy Hidra",
      "photoUrl": "",
      "userId": "06476743647043651345"
     },
     "user_tz": -120
    },
    "id": "8gNfTUwWbEsA",
    "outputId": "27bd7f12-2c49-4b6c-b687-6d19fbe9e489"
   },
   "outputs": [],
   "source": [
    "now = datetime.datetime.now().strftime(\"%Y_%m_%d-%H_%M_%S\")\n",
    "tb = TensorBoard(log_dir=os.path.join(\"logs\", now))\n",
    "chkpt = ModelCheckpoint(filepath='backups/model.' + now + '.h5', period=5)\n",
    "\n",
    "m.compile(optimizer=SGD(learning_rate=0.0001, momentum=.9),\n",
    "          loss=model.weighted_categorical_crossentropy(weights=[0.1 if i==0 else 1 for i in range(21)]),\n",
    "          metrics=['accuracy', keras.metrics.Precision()])\n",
    "\n",
    "results = m.fit_generator(train_gen, epochs=582, steps_per_epoch=5, verbose=1, callbacks=[chkpt, tb])"
   ]
  },
  {
   "cell_type": "code",
   "execution_count": null,
   "metadata": {
    "colab": {},
    "colab_type": "code",
    "id": "0lygCmReZIEL"
   },
   "outputs": [],
   "source": [
    "with open('history.{}.dump'.format(now), 'wb') as file:\n",
    "    pickle.dump(results.history, file)"
   ]
  },
  {
   "cell_type": "code",
   "execution_count": null,
   "metadata": {
    "colab": {},
    "colab_type": "code",
    "id": "pGiEDDFy7kWS"
   },
   "outputs": [],
   "source": [
    "x, y = next(test_gen)\n",
    "y_hat = m.predict(x)"
   ]
  },
  {
   "cell_type": "code",
   "execution_count": null,
   "metadata": {
    "colab": {},
    "colab_type": "code",
    "id": "P9uvOTlZrQtV"
   },
   "outputs": [],
   "source": [
    "#m.load_weights('/content/backups/model.2020_06_09-09_55_28.h5')"
   ]
  },
  {
   "cell_type": "code",
   "execution_count": null,
   "metadata": {
    "colab": {},
    "colab_type": "code",
    "id": "0TED81ro8o66"
   },
   "outputs": [],
   "source": [
    "for i in range(20):\n",
    "    plt.figure(figsize=(16, 4))\n",
    "    data.display_result(x, y, y_hat, i)\n",
    "    plt.show()"
   ]
  }
 ],
 "metadata": {
  "accelerator": "GPU",
  "colab": {
   "authorship_tag": "ABX9TyOul7RO6xV/T/qWoFCSg0w4",
   "collapsed_sections": [],
   "mount_file_id": "1NQKDiYePmAYHc1esMxmQtxH7HkAafyu7",
   "name": "train.ipynb",
   "provenance": []
  },
  "kernelspec": {
   "display_name": "Python 3",
   "language": "python",
   "name": "python3"
  },
  "language_info": {
   "codemirror_mode": {
    "name": "ipython",
    "version": 3
   },
   "file_extension": ".py",
   "mimetype": "text/x-python",
   "name": "python",
   "nbconvert_exporter": "python",
   "pygments_lexer": "ipython3",
   "version": "3.6.9"
  }
 },
 "nbformat": 4,
 "nbformat_minor": 4
}
